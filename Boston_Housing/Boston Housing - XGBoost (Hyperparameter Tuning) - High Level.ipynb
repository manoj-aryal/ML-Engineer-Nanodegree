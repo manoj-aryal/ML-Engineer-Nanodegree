{
 "cells": [
  {
   "cell_type": "markdown",
   "metadata": {},
   "source": [
    "# Predicting Boston Housing Prices\n",
    "\n",
    "## Using XGBoost in SageMaker (Hyperparameter Tuning)\n",
    "\n",
    "_Deep Learning Nanodegree Program | Deployment_\n",
    "\n",
    "---\n",
    "\n",
    "As an introduction to using SageMaker's High Level Python API for hyperparameter tuning, we will look again at the [Boston Housing Dataset](https://www.cs.toronto.edu/~delve/data/boston/bostonDetail.html) to predict the median value of a home in the area of Boston Mass.\n",
    "\n",
    "The documentation for the high level API can be found on the [ReadTheDocs page](http://sagemaker.readthedocs.io/en/latest/)\n",
    "\n",
    "## General Outline\n",
    "\n",
    "Typically, when using a notebook instance with SageMaker, you will proceed through the following steps. Of course, not every step will need to be done with each project. Also, there is quite a lot of room for variation in many of the steps, as you will see throughout these lessons.\n",
    "\n",
    "1. Download or otherwise retrieve the data.\n",
    "2. Process / Prepare the data.\n",
    "3. Upload the processed data to S3.\n",
    "4. Train a chosen model.\n",
    "5. Test the trained model (typically using a batch transform job).\n",
    "6. Deploy the trained model.\n",
    "7. Use the deployed model.\n",
    "\n",
    "In this notebook we will only be covering steps 1 through 5 as we are only interested in creating a tuned model and testing its performance."
   ]
  },
  {
   "cell_type": "markdown",
   "metadata": {},
   "source": [
    "## Step 0: Setting up the notebook\n",
    "\n",
    "We begin by setting up all of the necessary bits required to run our notebook. To start that means loading all of the Python modules we will need."
   ]
  },
  {
   "cell_type": "code",
   "execution_count": 1,
   "metadata": {},
   "outputs": [],
   "source": [
    "%matplotlib inline\n",
    "\n",
    "import os\n",
    "\n",
    "import numpy as np\n",
    "import pandas as pd\n",
    "\n",
    "import matplotlib.pyplot as plt\n",
    "\n",
    "from sklearn.datasets import load_boston\n",
    "import sklearn.model_selection"
   ]
  },
  {
   "cell_type": "markdown",
   "metadata": {},
   "source": [
    "In addition to the modules above, we need to import the various bits of SageMaker that we will be using. "
   ]
  },
  {
   "cell_type": "code",
   "execution_count": 2,
   "metadata": {},
   "outputs": [],
   "source": [
    "import sagemaker\n",
    "from sagemaker import get_execution_role\n",
    "from sagemaker.amazon.amazon_estimator import get_image_uri\n",
    "from sagemaker.predictor import csv_serializer\n",
    "\n",
    "# This is an object that represents the SageMaker session that we are currently operating in. This\n",
    "# object contains some useful information that we will need to access later such as our region.\n",
    "session = sagemaker.Session()\n",
    "\n",
    "# This is an object that represents the IAM role that we are currently assigned. When we construct\n",
    "# and launch the training job later we will need to tell it what IAM role it should have. Since our\n",
    "# use case is relatively simple we will simply assign the training job the role we currently have.\n",
    "role = get_execution_role()"
   ]
  },
  {
   "cell_type": "markdown",
   "metadata": {},
   "source": [
    "## Step 1: Downloading the data\n",
    "\n",
    "Fortunately, this dataset can be retrieved using sklearn and so this step is relatively straightforward."
   ]
  },
  {
   "cell_type": "code",
   "execution_count": 3,
   "metadata": {},
   "outputs": [],
   "source": [
    "boston = load_boston()"
   ]
  },
  {
   "cell_type": "markdown",
   "metadata": {},
   "source": [
    "## Step 2: Preparing and splitting the data\n",
    "\n",
    "Given that this is clean tabular data, we don't need to do any processing. However, we do need to split the rows in the dataset up into train, test and validation sets."
   ]
  },
  {
   "cell_type": "code",
   "execution_count": 4,
   "metadata": {},
   "outputs": [],
   "source": [
    "# First we package up the input data and the target variable (the median value) as pandas dataframes. This\n",
    "# will make saving the data to a file a little easier later on.\n",
    "\n",
    "X_bos_pd = pd.DataFrame(boston.data, columns=boston.feature_names)\n",
    "Y_bos_pd = pd.DataFrame(boston.target)\n",
    "\n",
    "# We split the dataset into 2/3 training and 1/3 testing sets.\n",
    "X_train, X_test, Y_train, Y_test = sklearn.model_selection.train_test_split(X_bos_pd, Y_bos_pd, test_size=0.33)\n",
    "\n",
    "# Then we split the training set further into 2/3 training and 1/3 validation sets.\n",
    "X_train, X_val, Y_train, Y_val = sklearn.model_selection.train_test_split(X_train, Y_train, test_size=0.33)"
   ]
  },
  {
   "cell_type": "markdown",
   "metadata": {},
   "source": [
    "## Step 3: Uploading the data files to S3\n",
    "\n",
    "When a training job is constructed using SageMaker, a container is executed which performs the training operation. This container is given access to data that is stored in S3. This means that we need to upload the data we want to use for training to S3. In addition, when we perform a batch transform job, SageMaker expects the input data to be stored on S3. We can use the SageMaker API to do this and hide some of the details.\n",
    "\n",
    "### Save the data locally\n",
    "\n",
    "First we need to create the test, train and validation csv files which we will then upload to S3."
   ]
  },
  {
   "cell_type": "code",
   "execution_count": 5,
   "metadata": {},
   "outputs": [],
   "source": [
    "# This is our local data directory. We need to make sure that it exists.\n",
    "data_dir = '../data/boston'\n",
    "if not os.path.exists(data_dir):\n",
    "    os.makedirs(data_dir)"
   ]
  },
  {
   "cell_type": "code",
   "execution_count": 6,
   "metadata": {},
   "outputs": [],
   "source": [
    "# We use pandas to save our test, train and validation data to csv files. Note that we make sure not to include header\n",
    "# information or an index as this is required by the built in algorithms provided by Amazon. Also, for the train and\n",
    "# validation data, it is assumed that the first entry in each row is the target variable.\n",
    "\n",
    "X_test.to_csv(os.path.join(data_dir, 'test.csv'), header=False, index=False)\n",
    "\n",
    "pd.concat([Y_val, X_val], axis=1).to_csv(os.path.join(data_dir, 'validation.csv'), header=False, index=False)\n",
    "pd.concat([Y_train, X_train], axis=1).to_csv(os.path.join(data_dir, 'train.csv'), header=False, index=False)"
   ]
  },
  {
   "cell_type": "markdown",
   "metadata": {},
   "source": [
    "### Upload to S3\n",
    "\n",
    "Since we are currently running inside of a SageMaker session, we can use the object which represents this session to upload our data to the 'default' S3 bucket. Note that it is good practice to provide a custom prefix (essentially an S3 folder) to make sure that you don't accidentally interfere with data uploaded from some other notebook or project."
   ]
  },
  {
   "cell_type": "code",
   "execution_count": 7,
   "metadata": {},
   "outputs": [],
   "source": [
    "prefix = 'boston-xgboost-tuning-HL'\n",
    "\n",
    "test_location = session.upload_data(os.path.join(data_dir, 'test.csv'), key_prefix=prefix)\n",
    "val_location = session.upload_data(os.path.join(data_dir, 'validation.csv'), key_prefix=prefix)\n",
    "train_location = session.upload_data(os.path.join(data_dir, 'train.csv'), key_prefix=prefix)"
   ]
  },
  {
   "cell_type": "markdown",
   "metadata": {},
   "source": [
    "## Step 4: Train the XGBoost model\n",
    "\n",
    "Now that we have the training and validation data uploaded to S3, we can construct our XGBoost model and train it. Unlike in the previous notebooks, instead of training a single model, we will use SageMaker's hyperparameter tuning functionality to train multiple models and use the one that performs the best on the validation set.\n",
    "\n",
    "To begin with, as in the previous approaches, we will need to construct an estimator object."
   ]
  },
  {
   "cell_type": "code",
   "execution_count": 8,
   "metadata": {},
   "outputs": [
    {
     "name": "stderr",
     "output_type": "stream",
     "text": [
      "WARNING:root:There is a more up to date SageMaker XGBoost image. To use the newer image, please set 'repo_version'='0.90-1'. For example:\n",
      "\tget_image_uri(region, 'xgboost', '0.90-1').\n"
     ]
    }
   ],
   "source": [
    "# As stated above, we use this utility method to construct the image name for the training container.\n",
    "container = get_image_uri(session.boto_region_name, 'xgboost')\n",
    "\n",
    "# Now that we know which container to use, we can construct the estimator object.\n",
    "xgb = sagemaker.estimator.Estimator(container, # The name of the training container\n",
    "                                    role,      # The IAM role to use (our current role in this case)\n",
    "                                    train_instance_count=1, # The number of instances to use for training\n",
    "                                    train_instance_type='ml.m4.xlarge', # The type of instance ot use for training\n",
    "                                    output_path='s3://{}/{}/output'.format(session.default_bucket(), prefix),\n",
    "                                                                        # Where to save the output (the model artifacts)\n",
    "                                    sagemaker_session=session) # The current SageMaker session"
   ]
  },
  {
   "cell_type": "markdown",
   "metadata": {},
   "source": [
    "Before beginning the hyperparameter tuning, we should make sure to set any model specific hyperparameters that we wish to have default values. There are quite a few that can be set when using the XGBoost algorithm, below are just a few of them. If you would like to change the hyperparameters below or modify additional ones you can find additional information on the [XGBoost hyperparameter page](https://docs.aws.amazon.com/sagemaker/latest/dg/xgboost_hyperparameters.html)"
   ]
  },
  {
   "cell_type": "code",
   "execution_count": 9,
   "metadata": {},
   "outputs": [],
   "source": [
    "xgb.set_hyperparameters(max_depth=5,\n",
    "                        eta=0.2,\n",
    "                        gamma=4,\n",
    "                        min_child_weight=6,\n",
    "                        subsample=0.8,\n",
    "                        objective='reg:linear',\n",
    "                        early_stopping_rounds=10,\n",
    "                        num_round=200)"
   ]
  },
  {
   "cell_type": "markdown",
   "metadata": {},
   "source": [
    "Now that we have our estimator object completely set up, it is time to create the hyperparameter tuner. To do this we need to construct a new object which contains each of the parameters we want SageMaker to tune. In this case, we wish to find the best values for the `max_depth`, `eta`, `min_child_weight`, `subsample`, and `gamma` parameters. Note that for each parameter that we want SageMaker to tune we need to specify both the *type* of the parameter and the *range* of values that parameter may take on.\n",
    "\n",
    "In addition, we specify the *number* of models to construct (`max_jobs`) and the number of those that can be trained in parallel (`max_parallel_jobs`). In the cell below we have chosen to train `20` models, of which we ask that SageMaker train `3` at a time in parallel. Note that this results in a total of `20` training jobs being executed which can take some time, in this case almost a half hour. With more complicated models this can take even longer so be aware!"
   ]
  },
  {
   "cell_type": "code",
   "execution_count": 10,
   "metadata": {},
   "outputs": [],
   "source": [
    "from sagemaker.tuner import IntegerParameter, ContinuousParameter, HyperparameterTuner\n",
    "\n",
    "xgb_hyperparameter_tuner = HyperparameterTuner(estimator = xgb, # The estimator object to use as the basis for the training jobs.\n",
    "                                               objective_metric_name = 'validation:rmse', # The metric used to compare trained models.\n",
    "                                               objective_type = 'Minimize', # Whether we wish to minimize or maximize the metric.\n",
    "                                               max_jobs = 20, # The total number of models to train\n",
    "                                               max_parallel_jobs = 3, # The number of models to train in parallel\n",
    "                                               hyperparameter_ranges = {\n",
    "                                                    'max_depth': IntegerParameter(3, 12),\n",
    "                                                    'eta'      : ContinuousParameter(0.05, 0.5),\n",
    "                                                    'min_child_weight': IntegerParameter(2, 8),\n",
    "                                                    'subsample': ContinuousParameter(0.5, 0.9),\n",
    "                                                    'gamma': ContinuousParameter(0, 10),\n",
    "                                               })"
   ]
  },
  {
   "cell_type": "markdown",
   "metadata": {},
   "source": [
    "Now that we have our hyperparameter tuner object completely set up, it is time to train it. To do this we make sure that SageMaker knows our input data is in csv format and then execute the `fit` method."
   ]
  },
  {
   "cell_type": "code",
   "execution_count": 11,
   "metadata": {},
   "outputs": [],
   "source": [
    "# This is a wrapper around the location of our train and validation data, to make sure that SageMaker\n",
    "# knows our data is in csv format.\n",
    "s3_input_train = sagemaker.s3_input(s3_data=train_location, content_type='csv')\n",
    "s3_input_validation = sagemaker.s3_input(s3_data=val_location, content_type='csv')\n",
    "\n",
    "xgb_hyperparameter_tuner.fit({'train': s3_input_train, 'validation': s3_input_validation})"
   ]
  },
  {
   "cell_type": "markdown",
   "metadata": {},
   "source": [
    "As in many of the examples we have seen so far, the `fit()` method takes care of setting up and fitting a number of different models, each with different hyperparameters. If we wish to wait for this process to finish, we can call the `wait()` method."
   ]
  },
  {
   "cell_type": "code",
   "execution_count": 12,
   "metadata": {},
   "outputs": [
    {
     "name": "stdout",
     "output_type": "stream",
     "text": [
      ".............................................................................................................................................................................................................................................................................!\n"
     ]
    }
   ],
   "source": [
    "xgb_hyperparameter_tuner.wait()"
   ]
  },
  {
   "cell_type": "markdown",
   "metadata": {},
   "source": [
    "Once the hyperamater tuner has finished, we can retrieve information about the best performing model. "
   ]
  },
  {
   "cell_type": "code",
   "execution_count": 13,
   "metadata": {},
   "outputs": [
    {
     "data": {
      "text/plain": [
       "'xgboost-200406-0456-013-df9f06b9'"
      ]
     },
     "execution_count": 13,
     "metadata": {},
     "output_type": "execute_result"
    }
   ],
   "source": [
    "xgb_hyperparameter_tuner.best_training_job()"
   ]
  },
  {
   "cell_type": "markdown",
   "metadata": {},
   "source": [
    "In addition, since we'd like to set up a batch transform job to test the best model, we can construct a new estimator object from the results of the best training job. The `xgb_attached` object below can now be used as though we constructed an estimator with the best performing hyperparameters and then fit it to our training data."
   ]
  },
  {
   "cell_type": "code",
   "execution_count": 14,
   "metadata": {},
   "outputs": [
    {
     "name": "stdout",
     "output_type": "stream",
     "text": [
      "2020-04-06 05:12:27 Starting - Preparing the instances for training\n",
      "2020-04-06 05:12:27 Downloading - Downloading input data\n",
      "2020-04-06 05:12:27 Training - Training image download completed. Training in progress.\n",
      "2020-04-06 05:12:27 Uploading - Uploading generated training model\n",
      "2020-04-06 05:12:27 Completed - Training job completed\u001b[34mArguments: train\u001b[0m\n",
      "\u001b[34m[2020-04-06:05:12:15:INFO] Running standalone xgboost training.\u001b[0m\n",
      "\u001b[34m[2020-04-06:05:12:15:INFO] Setting up HPO optimized metric to be : rmse\u001b[0m\n",
      "\u001b[34m[2020-04-06:05:12:15:INFO] File size need to be processed in the node: 0.02mb. Available memory size in the node: 8500.91mb\u001b[0m\n",
      "\u001b[34m[2020-04-06:05:12:15:INFO] Determined delimiter of CSV input is ','\u001b[0m\n",
      "\u001b[34m[05:12:15] S3DistributionType set as FullyReplicated\u001b[0m\n",
      "\u001b[34m[05:12:15] 227x13 matrix with 2951 entries loaded from /opt/ml/input/data/train?format=csv&label_column=0&delimiter=,\u001b[0m\n",
      "\u001b[34m[2020-04-06:05:12:15:INFO] Determined delimiter of CSV input is ','\u001b[0m\n",
      "\u001b[34m[05:12:15] S3DistributionType set as FullyReplicated\u001b[0m\n",
      "\u001b[34m[05:12:15] 112x13 matrix with 1456 entries loaded from /opt/ml/input/data/validation?format=csv&label_column=0&delimiter=,\u001b[0m\n",
      "\u001b[34m[05:12:15] src/tree/updater_prune.cc:74: tree pruning end, 1 roots, 10 extra nodes, 0 pruned nodes, max_depth=4\u001b[0m\n",
      "\u001b[34m[0]#011train-rmse:22.0385#011validation-rmse:21.4772\u001b[0m\n",
      "\u001b[34mMultiple eval metrics have been passed: 'validation-rmse' will be used for early stopping.\n",
      "\u001b[0m\n",
      "\u001b[34mWill train until validation-rmse hasn't improved in 10 rounds.\u001b[0m\n",
      "\u001b[34m[05:12:15] src/tree/updater_prune.cc:74: tree pruning end, 1 roots, 8 extra nodes, 0 pruned nodes, max_depth=3\u001b[0m\n",
      "\u001b[34m[1]#011train-rmse:19.4505#011validation-rmse:18.9446\u001b[0m\n",
      "\u001b[34m[05:12:15] src/tree/updater_prune.cc:74: tree pruning end, 1 roots, 8 extra nodes, 0 pruned nodes, max_depth=3\u001b[0m\n",
      "\u001b[34m[2]#011train-rmse:17.1921#011validation-rmse:16.8027\u001b[0m\n",
      "\u001b[34m[05:12:15] src/tree/updater_prune.cc:74: tree pruning end, 1 roots, 16 extra nodes, 0 pruned nodes, max_depth=4\u001b[0m\n",
      "\u001b[34m[3]#011train-rmse:15.2146#011validation-rmse:14.9817\u001b[0m\n",
      "\u001b[34m[05:12:15] src/tree/updater_prune.cc:74: tree pruning end, 1 roots, 16 extra nodes, 0 pruned nodes, max_depth=5\u001b[0m\n",
      "\u001b[34m[4]#011train-rmse:13.5032#011validation-rmse:13.395\u001b[0m\n",
      "\u001b[34m[05:12:15] src/tree/updater_prune.cc:74: tree pruning end, 1 roots, 16 extra nodes, 0 pruned nodes, max_depth=4\u001b[0m\n",
      "\u001b[34m[5]#011train-rmse:11.9982#011validation-rmse:11.9819\u001b[0m\n",
      "\u001b[34m[05:12:15] src/tree/updater_prune.cc:74: tree pruning end, 1 roots, 18 extra nodes, 0 pruned nodes, max_depth=4\u001b[0m\n",
      "\u001b[34m[6]#011train-rmse:10.6557#011validation-rmse:10.7079\u001b[0m\n",
      "\u001b[34m[05:12:15] src/tree/updater_prune.cc:74: tree pruning end, 1 roots, 20 extra nodes, 0 pruned nodes, max_depth=5\u001b[0m\n",
      "\u001b[34m[7]#011train-rmse:9.50761#011validation-rmse:9.64676\u001b[0m\n",
      "\u001b[34m[05:12:15] src/tree/updater_prune.cc:74: tree pruning end, 1 roots, 28 extra nodes, 0 pruned nodes, max_depth=6\u001b[0m\n",
      "\u001b[34m[8]#011train-rmse:8.49869#011validation-rmse:8.73047\u001b[0m\n",
      "\u001b[34m[05:12:15] src/tree/updater_prune.cc:74: tree pruning end, 1 roots, 20 extra nodes, 0 pruned nodes, max_depth=5\u001b[0m\n",
      "\u001b[34m[9]#011train-rmse:7.61696#011validation-rmse:7.95032\u001b[0m\n",
      "\u001b[34m[05:12:15] src/tree/updater_prune.cc:74: tree pruning end, 1 roots, 30 extra nodes, 0 pruned nodes, max_depth=6\u001b[0m\n",
      "\u001b[34m[10]#011train-rmse:6.83813#011validation-rmse:7.29388\u001b[0m\n",
      "\u001b[34m[05:12:15] src/tree/updater_prune.cc:74: tree pruning end, 1 roots, 28 extra nodes, 0 pruned nodes, max_depth=6\u001b[0m\n",
      "\u001b[34m[11]#011train-rmse:6.20162#011validation-rmse:6.74156\u001b[0m\n",
      "\u001b[34m[05:12:15] src/tree/updater_prune.cc:74: tree pruning end, 1 roots, 34 extra nodes, 0 pruned nodes, max_depth=8\u001b[0m\n",
      "\u001b[34m[12]#011train-rmse:5.59514#011validation-rmse:6.23358\u001b[0m\n",
      "\u001b[34m[05:12:15] src/tree/updater_prune.cc:74: tree pruning end, 1 roots, 36 extra nodes, 0 pruned nodes, max_depth=7\u001b[0m\n",
      "\u001b[34m[13]#011train-rmse:5.05582#011validation-rmse:5.78223\u001b[0m\n",
      "\u001b[34m[05:12:15] src/tree/updater_prune.cc:74: tree pruning end, 1 roots, 36 extra nodes, 0 pruned nodes, max_depth=7\u001b[0m\n",
      "\u001b[34m[14]#011train-rmse:4.57662#011validation-rmse:5.41404\u001b[0m\n",
      "\u001b[34m[05:12:15] src/tree/updater_prune.cc:74: tree pruning end, 1 roots, 42 extra nodes, 0 pruned nodes, max_depth=8\u001b[0m\n",
      "\u001b[34m[15]#011train-rmse:4.15331#011validation-rmse:5.09611\u001b[0m\n",
      "\u001b[34m[05:12:15] src/tree/updater_prune.cc:74: tree pruning end, 1 roots, 28 extra nodes, 0 pruned nodes, max_depth=8\u001b[0m\n",
      "\u001b[34m[16]#011train-rmse:3.79806#011validation-rmse:4.84663\u001b[0m\n",
      "\u001b[34m[05:12:15] src/tree/updater_prune.cc:74: tree pruning end, 1 roots, 36 extra nodes, 0 pruned nodes, max_depth=8\u001b[0m\n",
      "\u001b[34m[17]#011train-rmse:3.51342#011validation-rmse:4.62835\u001b[0m\n",
      "\u001b[34m[05:12:15] src/tree/updater_prune.cc:74: tree pruning end, 1 roots, 38 extra nodes, 0 pruned nodes, max_depth=8\u001b[0m\n",
      "\u001b[34m[18]#011train-rmse:3.24812#011validation-rmse:4.4261\u001b[0m\n",
      "\u001b[34m[05:12:15] src/tree/updater_prune.cc:74: tree pruning end, 1 roots, 42 extra nodes, 0 pruned nodes, max_depth=8\u001b[0m\n",
      "\u001b[34m[19]#011train-rmse:3.03496#011validation-rmse:4.26628\u001b[0m\n",
      "\u001b[34m[05:12:15] src/tree/updater_prune.cc:74: tree pruning end, 1 roots, 40 extra nodes, 0 pruned nodes, max_depth=8\u001b[0m\n",
      "\u001b[34m[20]#011train-rmse:2.83826#011validation-rmse:4.1238\u001b[0m\n",
      "\u001b[34m[05:12:15] src/tree/updater_prune.cc:74: tree pruning end, 1 roots, 36 extra nodes, 0 pruned nodes, max_depth=8\u001b[0m\n",
      "\u001b[34m[21]#011train-rmse:2.6612#011validation-rmse:3.97216\u001b[0m\n",
      "\u001b[34m[05:12:15] src/tree/updater_prune.cc:74: tree pruning end, 1 roots, 34 extra nodes, 0 pruned nodes, max_depth=8\u001b[0m\n",
      "\u001b[34m[05:12:15] src/tree/updater_prune.cc:74: tree pruning end, 1 roots, 42 extra nodes, 0 pruned nodes, max_depth=8\u001b[0m\n",
      "\u001b[34m[05:12:15] src/tree/updater_prune.cc:74: tree pruning end, 1 roots, 42 extra nodes, 0 pruned nodes, max_depth=8\u001b[0m\n",
      "\u001b[34m[05:12:15] src/tree/updater_prune.cc:74: tree pruning end, 1 roots, 48 extra nodes, 0 pruned nodes, max_depth=8\u001b[0m\n",
      "\u001b[34m[05:12:15] src/tree/updater_prune.cc:74: tree pruning end, 1 roots, 44 extra nodes, 2 pruned nodes, max_depth=8\u001b[0m\n",
      "\u001b[34m[22]#011train-rmse:2.48757#011validation-rmse:3.87399\u001b[0m\n",
      "\u001b[34m[23]#011train-rmse:2.33064#011validation-rmse:3.74519\u001b[0m\n",
      "\u001b[34m[24]#011train-rmse:2.20262#011validation-rmse:3.63652\u001b[0m\n",
      "\u001b[34m[25]#011train-rmse:2.07635#011validation-rmse:3.56794\u001b[0m\n",
      "\u001b[34m[26]#011train-rmse:1.98149#011validation-rmse:3.50054\u001b[0m\n",
      "\u001b[34m[05:12:15] src/tree/updater_prune.cc:74: tree pruning end, 1 roots, 42 extra nodes, 0 pruned nodes, max_depth=8\u001b[0m\n",
      "\u001b[34m[27]#011train-rmse:1.8816#011validation-rmse:3.446\u001b[0m\n",
      "\u001b[34m[05:12:15] src/tree/updater_prune.cc:74: tree pruning end, 1 roots, 32 extra nodes, 0 pruned nodes, max_depth=8\u001b[0m\n",
      "\u001b[34m[28]#011train-rmse:1.81589#011validation-rmse:3.40911\u001b[0m\n",
      "\u001b[34m[05:12:15] src/tree/updater_prune.cc:74: tree pruning end, 1 roots, 44 extra nodes, 2 pruned nodes, max_depth=8\u001b[0m\n",
      "\u001b[34m[29]#011train-rmse:1.72264#011validation-rmse:3.36238\u001b[0m\n",
      "\u001b[34m[05:12:15] src/tree/updater_prune.cc:74: tree pruning end, 1 roots, 34 extra nodes, 0 pruned nodes, max_depth=8\u001b[0m\n",
      "\u001b[34m[30]#011train-rmse:1.66187#011validation-rmse:3.33017\u001b[0m\n",
      "\u001b[34m[05:12:15] src/tree/updater_prune.cc:74: tree pruning end, 1 roots, 44 extra nodes, 0 pruned nodes, max_depth=8\u001b[0m\n",
      "\u001b[34m[31]#011train-rmse:1.60699#011validation-rmse:3.30299\u001b[0m\n",
      "\u001b[34m[05:12:15] src/tree/updater_prune.cc:74: tree pruning end, 1 roots, 20 extra nodes, 0 pruned nodes, max_depth=8\u001b[0m\n",
      "\u001b[34m[32]#011train-rmse:1.57962#011validation-rmse:3.28448\u001b[0m\n",
      "\u001b[34m[05:12:15] src/tree/updater_prune.cc:74: tree pruning end, 1 roots, 40 extra nodes, 0 pruned nodes, max_depth=8\u001b[0m\n",
      "\u001b[34m[33]#011train-rmse:1.50445#011validation-rmse:3.25294\u001b[0m\n",
      "\u001b[34m[05:12:15] src/tree/updater_prune.cc:74: tree pruning end, 1 roots, 34 extra nodes, 0 pruned nodes, max_depth=8\u001b[0m\n",
      "\u001b[34m[34]#011train-rmse:1.46501#011validation-rmse:3.22719\u001b[0m\n",
      "\u001b[34m[05:12:15] src/tree/updater_prune.cc:74: tree pruning end, 1 roots, 32 extra nodes, 0 pruned nodes, max_depth=8\u001b[0m\n",
      "\u001b[34m[35]#011train-rmse:1.43101#011validation-rmse:3.19448\u001b[0m\n",
      "\u001b[34m[05:12:15] src/tree/updater_prune.cc:74: tree pruning end, 1 roots, 34 extra nodes, 0 pruned nodes, max_depth=8\u001b[0m\n",
      "\u001b[34m[36]#011train-rmse:1.40931#011validation-rmse:3.17952\u001b[0m\n",
      "\u001b[34m[05:12:15] src/tree/updater_prune.cc:74: tree pruning end, 1 roots, 18 extra nodes, 0 pruned nodes, max_depth=8\u001b[0m\n",
      "\u001b[34m[37]#011train-rmse:1.39556#011validation-rmse:3.17984\u001b[0m\n",
      "\u001b[34m[05:12:15] src/tree/updater_prune.cc:74: tree pruning end, 1 roots, 28 extra nodes, 0 pruned nodes, max_depth=8\u001b[0m\n",
      "\u001b[34m[38]#011train-rmse:1.36576#011validation-rmse:3.16222\u001b[0m\n",
      "\u001b[34m[05:12:15] src/tree/updater_prune.cc:74: tree pruning end, 1 roots, 42 extra nodes, 0 pruned nodes, max_depth=8\u001b[0m\n",
      "\u001b[34m[39]#011train-rmse:1.32967#011validation-rmse:3.14353\u001b[0m\n",
      "\u001b[34m[05:12:15] src/tree/updater_prune.cc:74: tree pruning end, 1 roots, 44 extra nodes, 0 pruned nodes, max_depth=8\u001b[0m\n",
      "\u001b[34m[40]#011train-rmse:1.30864#011validation-rmse:3.14054\u001b[0m\n",
      "\u001b[34m[05:12:15] src/tree/updater_prune.cc:74: tree pruning end, 1 roots, 40 extra nodes, 0 pruned nodes, max_depth=8\u001b[0m\n",
      "\u001b[34m[41]#011train-rmse:1.28369#011validation-rmse:3.13728\u001b[0m\n",
      "\u001b[34m[05:12:15] src/tree/updater_prune.cc:74: tree pruning end, 1 roots, 28 extra nodes, 0 pruned nodes, max_depth=8\u001b[0m\n",
      "\u001b[34m[42]#011train-rmse:1.26331#011validation-rmse:3.12828\u001b[0m\n",
      "\u001b[34m[05:12:15] src/tree/updater_prune.cc:74: tree pruning end, 1 roots, 38 extra nodes, 0 pruned nodes, max_depth=8\u001b[0m\n",
      "\u001b[34m[43]#011train-rmse:1.24574#011validation-rmse:3.11391\u001b[0m\n",
      "\u001b[34m[05:12:15] src/tree/updater_prune.cc:74: tree pruning end, 1 roots, 44 extra nodes, 0 pruned nodes, max_depth=8\u001b[0m\n",
      "\u001b[34m[44]#011train-rmse:1.20698#011validation-rmse:3.09794\u001b[0m\n",
      "\u001b[34m[05:12:15] src/tree/updater_prune.cc:74: tree pruning end, 1 roots, 44 extra nodes, 0 pruned nodes, max_depth=8\u001b[0m\n",
      "\u001b[34m[45]#011train-rmse:1.15932#011validation-rmse:3.06136\u001b[0m\n",
      "\u001b[34m[05:12:15] src/tree/updater_prune.cc:74: tree pruning end, 1 roots, 44 extra nodes, 0 pruned nodes, max_depth=8\u001b[0m\n",
      "\u001b[34m[46]#011train-rmse:1.1404#011validation-rmse:3.05233\u001b[0m\n",
      "\u001b[34m[05:12:15] src/tree/updater_prune.cc:74: tree pruning end, 1 roots, 32 extra nodes, 2 pruned nodes, max_depth=8\u001b[0m\n",
      "\u001b[34m[47]#011train-rmse:1.11976#011validation-rmse:3.04422\u001b[0m\n",
      "\u001b[34m[05:12:15] src/tree/updater_prune.cc:74: tree pruning end, 1 roots, 24 extra nodes, 0 pruned nodes, max_depth=8\u001b[0m\n",
      "\u001b[34m[48]#011train-rmse:1.11087#011validation-rmse:3.05151\u001b[0m\n",
      "\u001b[34m[05:12:15] src/tree/updater_prune.cc:74: tree pruning end, 1 roots, 30 extra nodes, 0 pruned nodes, max_depth=8\u001b[0m\n",
      "\u001b[34m[49]#011train-rmse:1.10234#011validation-rmse:3.05256\u001b[0m\n",
      "\u001b[34m[05:12:15] src/tree/updater_prune.cc:74: tree pruning end, 1 roots, 28 extra nodes, 0 pruned nodes, max_depth=8\u001b[0m\n",
      "\u001b[34m[50]#011train-rmse:1.07733#011validation-rmse:3.03871\u001b[0m\n",
      "\u001b[34m[05:12:15] src/tree/updater_prune.cc:74: tree pruning end, 1 roots, 34 extra nodes, 0 pruned nodes, max_depth=8\u001b[0m\n",
      "\u001b[34m[51]#011train-rmse:1.06913#011validation-rmse:3.03796\u001b[0m\n",
      "\u001b[34m[05:12:15] src/tree/updater_prune.cc:74: tree pruning end, 1 roots, 26 extra nodes, 0 pruned nodes, max_depth=8\u001b[0m\n",
      "\u001b[34m[52]#011train-rmse:1.06129#011validation-rmse:3.04007\u001b[0m\n",
      "\u001b[34m[05:12:15] src/tree/updater_prune.cc:74: tree pruning end, 1 roots, 42 extra nodes, 0 pruned nodes, max_depth=8\u001b[0m\n",
      "\u001b[34m[53]#011train-rmse:1.04556#011validation-rmse:3.02652\u001b[0m\n",
      "\u001b[34m[05:12:15] src/tree/updater_prune.cc:74: tree pruning end, 1 roots, 36 extra nodes, 0 pruned nodes, max_depth=8\u001b[0m\n",
      "\u001b[34m[54]#011train-rmse:1.01523#011validation-rmse:3.00745\u001b[0m\n",
      "\u001b[34m[05:12:15] src/tree/updater_prune.cc:74: tree pruning end, 1 roots, 30 extra nodes, 0 pruned nodes, max_depth=8\u001b[0m\n",
      "\u001b[34m[55]#011train-rmse:1.00739#011validation-rmse:3.00786\u001b[0m\n",
      "\u001b[34m[05:12:15] src/tree/updater_prune.cc:74: tree pruning end, 1 roots, 44 extra nodes, 2 pruned nodes, max_depth=8\u001b[0m\n",
      "\u001b[34m[56]#011train-rmse:0.997373#011validation-rmse:2.99346\u001b[0m\n",
      "\u001b[34m[05:12:15] src/tree/updater_prune.cc:74: tree pruning end, 1 roots, 48 extra nodes, 2 pruned nodes, max_depth=8\u001b[0m\n",
      "\u001b[34m[57]#011train-rmse:0.987823#011validation-rmse:2.98014\u001b[0m\n",
      "\u001b[34m[05:12:15] src/tree/updater_prune.cc:74: tree pruning end, 1 roots, 42 extra nodes, 0 pruned nodes, max_depth=8\u001b[0m\n",
      "\u001b[34m[58]#011train-rmse:0.968071#011validation-rmse:2.97457\u001b[0m\n",
      "\u001b[34m[05:12:15] src/tree/updater_prune.cc:74: tree pruning end, 1 roots, 52 extra nodes, 0 pruned nodes, max_depth=8\u001b[0m\n",
      "\u001b[34m[59]#011train-rmse:0.93949#011validation-rmse:2.96579\u001b[0m\n",
      "\u001b[34m[05:12:15] src/tree/updater_prune.cc:74: tree pruning end, 1 roots, 34 extra nodes, 0 pruned nodes, max_depth=8\u001b[0m\n",
      "\u001b[34m[60]#011train-rmse:0.925245#011validation-rmse:2.95685\u001b[0m\n",
      "\u001b[34m[05:12:15] src/tree/updater_prune.cc:74: tree pruning end, 1 roots, 50 extra nodes, 0 pruned nodes, max_depth=8\u001b[0m\n",
      "\u001b[34m[61]#011train-rmse:0.894413#011validation-rmse:2.94484\u001b[0m\n",
      "\u001b[34m[05:12:15] src/tree/updater_prune.cc:74: tree pruning end, 1 roots, 40 extra nodes, 0 pruned nodes, max_depth=8\u001b[0m\n",
      "\u001b[34m[62]#011train-rmse:0.869329#011validation-rmse:2.93954\u001b[0m\n",
      "\u001b[34m[05:12:15] src/tree/updater_prune.cc:74: tree pruning end, 1 roots, 38 extra nodes, 4 pruned nodes, max_depth=8\u001b[0m\n",
      "\u001b[34m[63]#011train-rmse:0.861774#011validation-rmse:2.93569\u001b[0m\n",
      "\u001b[34m[05:12:15] src/tree/updater_prune.cc:74: tree pruning end, 1 roots, 28 extra nodes, 2 pruned nodes, max_depth=8\u001b[0m\n",
      "\u001b[34m[64]#011train-rmse:0.850037#011validation-rmse:2.93202\u001b[0m\n",
      "\u001b[34m[05:12:15] src/tree/updater_prune.cc:74: tree pruning end, 1 roots, 30 extra nodes, 2 pruned nodes, max_depth=8\u001b[0m\n",
      "\u001b[34m[65]#011train-rmse:0.830793#011validation-rmse:2.93484\u001b[0m\n",
      "\u001b[34m[05:12:15] src/tree/updater_prune.cc:74: tree pruning end, 1 roots, 38 extra nodes, 2 pruned nodes, max_depth=8\u001b[0m\n",
      "\u001b[34m[66]#011train-rmse:0.815495#011validation-rmse:2.936\u001b[0m\n",
      "\u001b[34m[05:12:15] src/tree/updater_prune.cc:74: tree pruning end, 1 roots, 30 extra nodes, 0 pruned nodes, max_depth=8\u001b[0m\n",
      "\u001b[34m[67]#011train-rmse:0.809787#011validation-rmse:2.93178\u001b[0m\n",
      "\u001b[34m[05:12:15] src/tree/updater_prune.cc:74: tree pruning end, 1 roots, 32 extra nodes, 0 pruned nodes, max_depth=8\u001b[0m\n",
      "\u001b[34m[68]#011train-rmse:0.792749#011validation-rmse:2.92856\u001b[0m\n",
      "\u001b[34m[05:12:15] src/tree/updater_prune.cc:74: tree pruning end, 1 roots, 40 extra nodes, 0 pruned nodes, max_depth=8\u001b[0m\n",
      "\u001b[34m[69]#011train-rmse:0.770849#011validation-rmse:2.91854\u001b[0m\n",
      "\u001b[34m[05:12:15] src/tree/updater_prune.cc:74: tree pruning end, 1 roots, 44 extra nodes, 0 pruned nodes, max_depth=8\u001b[0m\n",
      "\u001b[34m[70]#011train-rmse:0.758012#011validation-rmse:2.91529\u001b[0m\n",
      "\u001b[34m[05:12:15] src/tree/updater_prune.cc:74: tree pruning end, 1 roots, 30 extra nodes, 2 pruned nodes, max_depth=8\u001b[0m\n",
      "\u001b[34m[71]#011train-rmse:0.74514#011validation-rmse:2.92573\u001b[0m\n",
      "\u001b[34m[05:12:15] src/tree/updater_prune.cc:74: tree pruning end, 1 roots, 46 extra nodes, 0 pruned nodes, max_depth=8\u001b[0m\n",
      "\u001b[34m[72]#011train-rmse:0.728409#011validation-rmse:2.92357\u001b[0m\n",
      "\u001b[34m[05:12:15] src/tree/updater_prune.cc:74: tree pruning end, 1 roots, 44 extra nodes, 4 pruned nodes, max_depth=8\u001b[0m\n",
      "\u001b[34m[73]#011train-rmse:0.722542#011validation-rmse:2.91563\u001b[0m\n",
      "\u001b[34m[74]#011train-rmse:0.717566#011validation-rmse:2.91421\u001b[0m\n",
      "\u001b[34m[05:12:15] src/tree/updater_prune.cc:74: tree pruning end, 1 roots, 28 extra nodes, 0 pruned nodes, max_depth=8\u001b[0m\n",
      "\u001b[34m[05:12:15] src/tree/updater_prune.cc:74: tree pruning end, 1 roots, 36 extra nodes, 2 pruned nodes, max_depth=8\u001b[0m\n",
      "\u001b[34m[75]#011train-rmse:0.700221#011validation-rmse:2.90703\u001b[0m\n",
      "\u001b[34m[05:12:15] src/tree/updater_prune.cc:74: tree pruning end, 1 roots, 32 extra nodes, 2 pruned nodes, max_depth=8\u001b[0m\n",
      "\u001b[34m[76]#011train-rmse:0.696879#011validation-rmse:2.90408\u001b[0m\n",
      "\u001b[34m[05:12:15] src/tree/updater_prune.cc:74: tree pruning end, 1 roots, 40 extra nodes, 4 pruned nodes, max_depth=8\u001b[0m\n",
      "\u001b[34m[77]#011train-rmse:0.689969#011validation-rmse:2.90471\u001b[0m\n",
      "\u001b[34m[05:12:15] src/tree/updater_prune.cc:74: tree pruning end, 1 roots, 32 extra nodes, 0 pruned nodes, max_depth=8\u001b[0m\n",
      "\u001b[34m[78]#011train-rmse:0.67863#011validation-rmse:2.9058\u001b[0m\n",
      "\u001b[34m[05:12:15] src/tree/updater_prune.cc:74: tree pruning end, 1 roots, 32 extra nodes, 2 pruned nodes, max_depth=8\u001b[0m\n",
      "\u001b[34m[79]#011train-rmse:0.667878#011validation-rmse:2.90936\u001b[0m\n",
      "\u001b[34m[05:12:15] src/tree/updater_prune.cc:74: tree pruning end, 1 roots, 36 extra nodes, 0 pruned nodes, max_depth=8\u001b[0m\n",
      "\u001b[34m[80]#011train-rmse:0.661354#011validation-rmse:2.90128\u001b[0m\n",
      "\u001b[34m[05:12:15] src/tree/updater_prune.cc:74: tree pruning end, 1 roots, 44 extra nodes, 0 pruned nodes, max_depth=8\u001b[0m\n",
      "\u001b[34m[81]#011train-rmse:0.644543#011validation-rmse:2.89511\u001b[0m\n",
      "\u001b[34m[05:12:15] src/tree/updater_prune.cc:74: tree pruning end, 1 roots, 42 extra nodes, 2 pruned nodes, max_depth=8\u001b[0m\n",
      "\u001b[34m[82]#011train-rmse:0.637375#011validation-rmse:2.89225\u001b[0m\n",
      "\u001b[34m[05:12:15] src/tree/updater_prune.cc:74: tree pruning end, 1 roots, 44 extra nodes, 2 pruned nodes, max_depth=8\u001b[0m\n",
      "\u001b[34m[83]#011train-rmse:0.632088#011validation-rmse:2.89266\u001b[0m\n",
      "\u001b[34m[05:12:15] src/tree/updater_prune.cc:74: tree pruning end, 1 roots, 34 extra nodes, 8 pruned nodes, max_depth=8\u001b[0m\n",
      "\u001b[34m[84]#011train-rmse:0.621182#011validation-rmse:2.8941\u001b[0m\n",
      "\u001b[34m[05:12:15] src/tree/updater_prune.cc:74: tree pruning end, 1 roots, 42 extra nodes, 2 pruned nodes, max_depth=8\u001b[0m\n",
      "\u001b[34m[85]#011train-rmse:0.615834#011validation-rmse:2.8989\u001b[0m\n",
      "\u001b[34m[05:12:15] src/tree/updater_prune.cc:74: tree pruning end, 1 roots, 36 extra nodes, 2 pruned nodes, max_depth=8\u001b[0m\n",
      "\u001b[34m[86]#011train-rmse:0.604043#011validation-rmse:2.89419\u001b[0m\n",
      "\u001b[34m[05:12:15] src/tree/updater_prune.cc:74: tree pruning end, 1 roots, 26 extra nodes, 2 pruned nodes, max_depth=8\u001b[0m\n",
      "\u001b[34m[87]#011train-rmse:0.59217#011validation-rmse:2.88797\u001b[0m\n",
      "\u001b[34m[05:12:15] src/tree/updater_prune.cc:74: tree pruning end, 1 roots, 36 extra nodes, 4 pruned nodes, max_depth=8\u001b[0m\n",
      "\u001b[34m[88]#011train-rmse:0.58864#011validation-rmse:2.88633\u001b[0m\n",
      "\u001b[34m[05:12:15] src/tree/updater_prune.cc:74: tree pruning end, 1 roots, 34 extra nodes, 6 pruned nodes, max_depth=8\u001b[0m\n",
      "\u001b[34m[89]#011train-rmse:0.586441#011validation-rmse:2.88835\u001b[0m\n",
      "\u001b[34m[05:12:15] src/tree/updater_prune.cc:74: tree pruning end, 1 roots, 38 extra nodes, 10 pruned nodes, max_depth=8\u001b[0m\n",
      "\u001b[34m[90]#011train-rmse:0.581584#011validation-rmse:2.88399\u001b[0m\n",
      "\u001b[34m[05:12:15] src/tree/updater_prune.cc:74: tree pruning end, 1 roots, 36 extra nodes, 4 pruned nodes, max_depth=8\u001b[0m\n",
      "\u001b[34m[91]#011train-rmse:0.576052#011validation-rmse:2.88279\u001b[0m\n",
      "\u001b[34m[05:12:15] src/tree/updater_prune.cc:74: tree pruning end, 1 roots, 36 extra nodes, 4 pruned nodes, max_depth=8\u001b[0m\n",
      "\u001b[34m[92]#011train-rmse:0.573044#011validation-rmse:2.88376\u001b[0m\n",
      "\u001b[34m[05:12:15] src/tree/updater_prune.cc:74: tree pruning end, 1 roots, 34 extra nodes, 2 pruned nodes, max_depth=8\u001b[0m\n",
      "\u001b[34m[93]#011train-rmse:0.569231#011validation-rmse:2.87936\u001b[0m\n",
      "\u001b[34m[05:12:15] src/tree/updater_prune.cc:74: tree pruning end, 1 roots, 32 extra nodes, 10 pruned nodes, max_depth=8\u001b[0m\n",
      "\u001b[34m[94]#011train-rmse:0.555596#011validation-rmse:2.87393\u001b[0m\n",
      "\u001b[34m[05:12:15] src/tree/updater_prune.cc:74: tree pruning end, 1 roots, 34 extra nodes, 0 pruned nodes, max_depth=8\u001b[0m\n",
      "\u001b[34m[95]#011train-rmse:0.543636#011validation-rmse:2.8736\u001b[0m\n",
      "\u001b[34m[05:12:15] src/tree/updater_prune.cc:74: tree pruning end, 1 roots, 36 extra nodes, 16 pruned nodes, max_depth=8\u001b[0m\n",
      "\u001b[34m[96]#011train-rmse:0.538156#011validation-rmse:2.87573\u001b[0m\n",
      "\u001b[34m[05:12:15] src/tree/updater_prune.cc:74: tree pruning end, 1 roots, 34 extra nodes, 10 pruned nodes, max_depth=8\u001b[0m\n",
      "\u001b[34m[97]#011train-rmse:0.534515#011validation-rmse:2.87578\u001b[0m\n",
      "\u001b[34m[05:12:15] src/tree/updater_prune.cc:74: tree pruning end, 1 roots, 30 extra nodes, 10 pruned nodes, max_depth=8\u001b[0m\n",
      "\u001b[34m[98]#011train-rmse:0.532753#011validation-rmse:2.87894\u001b[0m\n",
      "\u001b[34m[05:12:15] src/tree/updater_prune.cc:74: tree pruning end, 1 roots, 40 extra nodes, 14 pruned nodes, max_depth=8\u001b[0m\n",
      "\u001b[34m[99]#011train-rmse:0.521012#011validation-rmse:2.88192\u001b[0m\n",
      "\u001b[34m[05:12:15] src/tree/updater_prune.cc:74: tree pruning end, 1 roots, 30 extra nodes, 10 pruned nodes, max_depth=8\u001b[0m\n",
      "\u001b[34m[100]#011train-rmse:0.519786#011validation-rmse:2.88152\u001b[0m\n",
      "\u001b[34m[05:12:15] src/tree/updater_prune.cc:74: tree pruning end, 1 roots, 14 extra nodes, 14 pruned nodes, max_depth=7\u001b[0m\n",
      "\u001b[34m[101]#011train-rmse:0.517918#011validation-rmse:2.88254\u001b[0m\n",
      "\u001b[34m[05:12:15] src/tree/updater_prune.cc:74: tree pruning end, 1 roots, 30 extra nodes, 30 pruned nodes, max_depth=7\u001b[0m\n",
      "\u001b[34m[102]#011train-rmse:0.514106#011validation-rmse:2.8816\u001b[0m\n",
      "\u001b[34m[05:12:15] src/tree/updater_prune.cc:74: tree pruning end, 1 roots, 30 extra nodes, 2 pruned nodes, max_depth=8\u001b[0m\n",
      "\u001b[34m[103]#011train-rmse:0.513259#011validation-rmse:2.87985\u001b[0m\n",
      "\u001b[34m[05:12:15] src/tree/updater_prune.cc:74: tree pruning end, 1 roots, 24 extra nodes, 4 pruned nodes, max_depth=8\u001b[0m\n",
      "\u001b[34m[104]#011train-rmse:0.510721#011validation-rmse:2.88014\u001b[0m\n",
      "\u001b[34m[05:12:15] src/tree/updater_prune.cc:74: tree pruning end, 1 roots, 28 extra nodes, 20 pruned nodes, max_depth=6\u001b[0m\n",
      "\u001b[34m[105]#011train-rmse:0.509883#011validation-rmse:2.87967\u001b[0m\n",
      "\u001b[34mStopping. Best iteration:\u001b[0m\n",
      "\u001b[34m[95]#011train-rmse:0.543636#011validation-rmse:2.8736\n",
      "\u001b[0m\n",
      "Training seconds: 63\n",
      "Billable seconds: 63\n"
     ]
    }
   ],
   "source": [
    "xgb_attached = sagemaker.estimator.Estimator.attach(xgb_hyperparameter_tuner.best_training_job())"
   ]
  },
  {
   "cell_type": "markdown",
   "metadata": {},
   "source": [
    "## Step 5: Test the model\n",
    "\n",
    "Now that we have our best performing model, we can test it. To do this we will use the batch transform functionality. To start with, we need to build a transformer object from our fit model."
   ]
  },
  {
   "cell_type": "code",
   "execution_count": 15,
   "metadata": {},
   "outputs": [],
   "source": [
    "xgb_transformer = xgb_attached.transformer(instance_count = 1, instance_type = 'ml.m4.xlarge')"
   ]
  },
  {
   "cell_type": "markdown",
   "metadata": {},
   "source": [
    "Next we ask SageMaker to begin a batch transform job using our trained model and applying it to the test data we previous stored in S3. We need to make sure to provide SageMaker with the type of data that we are providing to our model, in our case `text/csv`, so that it knows how to serialize our data. In addition, we need to make sure to let SageMaker know how to split our data up into chunks if the entire data set happens to be too large to send to our model all at once.\n",
    "\n",
    "Note that when we ask SageMaker to do this it will execute the batch transform job in the background. Since we need to wait for the results of this job before we can continue, we use the `wait()` method. An added benefit of this is that we get some output from our batch transform job which lets us know if anything went wrong."
   ]
  },
  {
   "cell_type": "code",
   "execution_count": 16,
   "metadata": {},
   "outputs": [],
   "source": [
    "xgb_transformer.transform(test_location, content_type='text/csv', split_type='Line')"
   ]
  },
  {
   "cell_type": "code",
   "execution_count": 17,
   "metadata": {},
   "outputs": [
    {
     "name": "stdout",
     "output_type": "stream",
     "text": [
      "...................\u001b[34mArguments: serve\u001b[0m\n",
      "\u001b[34m[2020-04-06 05:21:58 +0000] [1] [INFO] Starting gunicorn 19.7.1\u001b[0m\n",
      "\u001b[34m[2020-04-06 05:21:58 +0000] [1] [INFO] Listening at: http://0.0.0.0:8080 (1)\u001b[0m\n",
      "\u001b[34m[2020-04-06 05:21:58 +0000] [1] [INFO] Using worker: gevent\u001b[0m\n",
      "\u001b[34m[2020-04-06 05:21:58 +0000] [38] [INFO] Booting worker with pid: 38\u001b[0m\n",
      "\u001b[34m[2020-04-06 05:21:58 +0000] [39] [INFO] Booting worker with pid: 39\u001b[0m\n",
      "\u001b[34m[2020-04-06:05:21:58:INFO] Model loaded successfully for worker : 38\u001b[0m\n",
      "\u001b[34m[2020-04-06 05:21:58 +0000] [40] [INFO] Booting worker with pid: 40\u001b[0m\n",
      "\u001b[34m[2020-04-06:05:21:58:INFO] Model loaded successfully for worker : 39\u001b[0m\n",
      "\u001b[34m[2020-04-06 05:21:58 +0000] [41] [INFO] Booting worker with pid: 41\u001b[0m\n",
      "\u001b[34m[2020-04-06:05:21:58:INFO] Model loaded successfully for worker : 40\u001b[0m\n",
      "\u001b[34m[2020-04-06:05:21:58:INFO] Model loaded successfully for worker : 41\u001b[0m\n",
      "\n",
      "\u001b[34m[2020-04-06:05:22:26:INFO] Sniff delimiter as ','\u001b[0m\n",
      "\u001b[34m[2020-04-06:05:22:26:INFO] Determined delimiter of CSV input is ','\u001b[0m\n",
      "\u001b[35m[2020-04-06:05:22:26:INFO] Sniff delimiter as ','\u001b[0m\n",
      "\u001b[35m[2020-04-06:05:22:26:INFO] Determined delimiter of CSV input is ','\u001b[0m\n",
      "\u001b[32m2020-04-06T05:22:26.628:[sagemaker logs]: MaxConcurrentTransforms=4, MaxPayloadInMB=6, BatchStrategy=MULTI_RECORD\u001b[0m\n"
     ]
    }
   ],
   "source": [
    "xgb_transformer.wait()"
   ]
  },
  {
   "cell_type": "markdown",
   "metadata": {},
   "source": [
    "Now that the batch transform job has finished, the resulting output is stored on S3. Since we wish to analyze the output inside of our notebook we can use a bit of notebook magic to copy the output file from its S3 location and save it locally."
   ]
  },
  {
   "cell_type": "code",
   "execution_count": 18,
   "metadata": {},
   "outputs": [
    {
     "name": "stdout",
     "output_type": "stream",
     "text": [
      "download: s3://sagemaker-us-east-2-291201106902/xgboost-200406-0456-013-df9f06b9-2020-04-06-05-18-59-732/test.csv.out to ../data/boston/test.csv.out\r\n"
     ]
    }
   ],
   "source": [
    "!aws s3 cp --recursive $xgb_transformer.output_path $data_dir"
   ]
  },
  {
   "cell_type": "markdown",
   "metadata": {},
   "source": [
    "To see how well our model works we can create a simple scatter plot between the predicted and actual values. If the model was completely accurate the resulting scatter plot would look like the line $x=y$. As we can see, our model seems to have done okay but there is room for improvement."
   ]
  },
  {
   "cell_type": "code",
   "execution_count": 19,
   "metadata": {},
   "outputs": [],
   "source": [
    "Y_pred = pd.read_csv(os.path.join(data_dir, 'test.csv.out'), header=None)"
   ]
  },
  {
   "cell_type": "code",
   "execution_count": 20,
   "metadata": {},
   "outputs": [
    {
     "data": {
      "text/plain": [
       "Text(0.5, 1.0, 'Median Price vs Predicted Price')"
      ]
     },
     "execution_count": 20,
     "metadata": {},
     "output_type": "execute_result"
    },
    {
     "data": {
      "image/png": "[encoded data removed]",
      "text/plain": [
       "<Figure size 432x288 with 1 Axes>"
      ]
     },
     "metadata": {},
     "output_type": "display_data"
    }
   ],
   "source": [
    "plt.scatter(Y_test, Y_pred)\n",
    "plt.xlabel(\"Median Price\")\n",
    "plt.ylabel(\"Predicted Price\")\n",
    "plt.title(\"Median Price vs Predicted Price\")"
   ]
  },
  {
   "cell_type": "markdown",
   "metadata": {},
   "source": [
    "## Optional: Clean up\n",
    "\n",
    "The default notebook instance on SageMaker doesn't have a lot of excess disk space available. As you continue to complete and execute notebooks you will eventually fill up this disk space, leading to errors which can be difficult to diagnose. Once you are completely finished using a notebook it is a good idea to remove the files that you created along the way. Of course, you can do this from the terminal or from the notebook hub if you would like. The cell below contains some commands to clean up the created files from within the notebook."
   ]
  },
  {
   "cell_type": "code",
   "execution_count": 21,
   "metadata": {},
   "outputs": [],
   "source": [
    "# First we will remove all of the files contained in the data_dir directory\n",
    "!rm $data_dir/*\n",
    "\n",
    "# And then we delete the directory itself\n",
    "!rmdir $data_dir"
   ]
  },
  {
   "cell_type": "code",
   "execution_count": null,
   "metadata": {},
   "outputs": [],
   "source": []
  }
 ],
 "metadata": {
  "kernelspec": {
   "display_name": "conda_pytorch_p36",
   "language": "python",
   "name": "conda_pytorch_p36"
  },
  "language_info": {
   "codemirror_mode": {
    "name": "ipython",
    "version": 3
   },
   "file_extension": ".py",
   "mimetype": "text/x-python",
   "name": "python",
   "nbconvert_exporter": "python",
   "pygments_lexer": "ipython3",
   "version": "3.6.5"
  }
 },
 "nbformat": 4,
 "nbformat_minor": 2
}
